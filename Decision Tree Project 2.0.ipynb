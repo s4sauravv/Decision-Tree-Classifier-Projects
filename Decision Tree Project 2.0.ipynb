{
 "cells": [
  {
   "cell_type": "markdown",
   "id": "1466dc17",
   "metadata": {},
   "source": [
    "# Decision Tree Classification with Python and Scikit-Learn"
   ]
  },
  {
   "cell_type": "markdown",
   "id": "a2e70417",
   "metadata": {},
   "source": [
    "# Classification and Regression Trees (CART)\n"
   ]
  },
  {
   "cell_type": "code",
   "execution_count": 48,
   "id": "248f5cd0",
   "metadata": {},
   "outputs": [],
   "source": [
    "import pandas as pd\n",
    "import numpy as np\n",
    "\n",
    "#For Data Visualization\n",
    "\n",
    "import matplotlib.pyplot as plt\n",
    "%matplotlib inline\n",
    "import seaborn as sns"
   ]
  },
  {
   "cell_type": "code",
   "execution_count": 11,
   "id": "6bebec61",
   "metadata": {},
   "outputs": [
    {
     "data": {
      "text/html": [
       "<div>\n",
       "<style scoped>\n",
       "    .dataframe tbody tr th:only-of-type {\n",
       "        vertical-align: middle;\n",
       "    }\n",
       "\n",
       "    .dataframe tbody tr th {\n",
       "        vertical-align: top;\n",
       "    }\n",
       "\n",
       "    .dataframe thead th {\n",
       "        text-align: right;\n",
       "    }\n",
       "</style>\n",
       "<table border=\"1\" class=\"dataframe\">\n",
       "  <thead>\n",
       "    <tr style=\"text-align: right;\">\n",
       "      <th></th>\n",
       "      <th>vhigh</th>\n",
       "      <th>vhigh.1</th>\n",
       "      <th>2</th>\n",
       "      <th>2.1</th>\n",
       "      <th>small</th>\n",
       "      <th>low</th>\n",
       "      <th>unacc</th>\n",
       "    </tr>\n",
       "  </thead>\n",
       "  <tbody>\n",
       "    <tr>\n",
       "      <th>0</th>\n",
       "      <td>vhigh</td>\n",
       "      <td>vhigh</td>\n",
       "      <td>2</td>\n",
       "      <td>2</td>\n",
       "      <td>small</td>\n",
       "      <td>med</td>\n",
       "      <td>unacc</td>\n",
       "    </tr>\n",
       "    <tr>\n",
       "      <th>1</th>\n",
       "      <td>vhigh</td>\n",
       "      <td>vhigh</td>\n",
       "      <td>2</td>\n",
       "      <td>2</td>\n",
       "      <td>small</td>\n",
       "      <td>high</td>\n",
       "      <td>unacc</td>\n",
       "    </tr>\n",
       "    <tr>\n",
       "      <th>2</th>\n",
       "      <td>vhigh</td>\n",
       "      <td>vhigh</td>\n",
       "      <td>2</td>\n",
       "      <td>2</td>\n",
       "      <td>med</td>\n",
       "      <td>low</td>\n",
       "      <td>unacc</td>\n",
       "    </tr>\n",
       "    <tr>\n",
       "      <th>3</th>\n",
       "      <td>vhigh</td>\n",
       "      <td>vhigh</td>\n",
       "      <td>2</td>\n",
       "      <td>2</td>\n",
       "      <td>med</td>\n",
       "      <td>med</td>\n",
       "      <td>unacc</td>\n",
       "    </tr>\n",
       "    <tr>\n",
       "      <th>4</th>\n",
       "      <td>vhigh</td>\n",
       "      <td>vhigh</td>\n",
       "      <td>2</td>\n",
       "      <td>2</td>\n",
       "      <td>med</td>\n",
       "      <td>high</td>\n",
       "      <td>unacc</td>\n",
       "    </tr>\n",
       "  </tbody>\n",
       "</table>\n",
       "</div>"
      ],
      "text/plain": [
       "   vhigh vhigh.1  2 2.1  small   low  unacc\n",
       "0  vhigh   vhigh  2   2  small   med  unacc\n",
       "1  vhigh   vhigh  2   2  small  high  unacc\n",
       "2  vhigh   vhigh  2   2    med   low  unacc\n",
       "3  vhigh   vhigh  2   2    med   med  unacc\n",
       "4  vhigh   vhigh  2   2    med  high  unacc"
      ]
     },
     "execution_count": 11,
     "metadata": {},
     "output_type": "execute_result"
    }
   ],
   "source": [
    "data=pd.read_csv('car data.data')\n",
    "data.head()"
   ]
  },
  {
   "cell_type": "code",
   "execution_count": 13,
   "id": "e072ecd9",
   "metadata": {},
   "outputs": [
    {
     "data": {
      "text/plain": [
       "(1727, 7)"
      ]
     },
     "execution_count": 13,
     "metadata": {},
     "output_type": "execute_result"
    }
   ],
   "source": [
    "#Lets See the summary of the dataset and and Columns name \n",
    "data.shape"
   ]
  },
  {
   "cell_type": "code",
   "execution_count": 15,
   "id": "924534d0",
   "metadata": {},
   "outputs": [],
   "source": [
    "#First lets set the feature name"
   ]
  },
  {
   "cell_type": "code",
   "execution_count": 16,
   "id": "ac9e3017",
   "metadata": {},
   "outputs": [
    {
     "data": {
      "text/html": [
       "<div>\n",
       "<style scoped>\n",
       "    .dataframe tbody tr th:only-of-type {\n",
       "        vertical-align: middle;\n",
       "    }\n",
       "\n",
       "    .dataframe tbody tr th {\n",
       "        vertical-align: top;\n",
       "    }\n",
       "\n",
       "    .dataframe thead th {\n",
       "        text-align: right;\n",
       "    }\n",
       "</style>\n",
       "<table border=\"1\" class=\"dataframe\">\n",
       "  <thead>\n",
       "    <tr style=\"text-align: right;\">\n",
       "      <th></th>\n",
       "      <th>buying</th>\n",
       "      <th>maint</th>\n",
       "      <th>doors</th>\n",
       "      <th>persons</th>\n",
       "      <th>lug_boot</th>\n",
       "      <th>safety</th>\n",
       "      <th>class</th>\n",
       "    </tr>\n",
       "  </thead>\n",
       "  <tbody>\n",
       "    <tr>\n",
       "      <th>0</th>\n",
       "      <td>vhigh</td>\n",
       "      <td>vhigh</td>\n",
       "      <td>2</td>\n",
       "      <td>2</td>\n",
       "      <td>small</td>\n",
       "      <td>med</td>\n",
       "      <td>unacc</td>\n",
       "    </tr>\n",
       "    <tr>\n",
       "      <th>1</th>\n",
       "      <td>vhigh</td>\n",
       "      <td>vhigh</td>\n",
       "      <td>2</td>\n",
       "      <td>2</td>\n",
       "      <td>small</td>\n",
       "      <td>high</td>\n",
       "      <td>unacc</td>\n",
       "    </tr>\n",
       "    <tr>\n",
       "      <th>2</th>\n",
       "      <td>vhigh</td>\n",
       "      <td>vhigh</td>\n",
       "      <td>2</td>\n",
       "      <td>2</td>\n",
       "      <td>med</td>\n",
       "      <td>low</td>\n",
       "      <td>unacc</td>\n",
       "    </tr>\n",
       "    <tr>\n",
       "      <th>3</th>\n",
       "      <td>vhigh</td>\n",
       "      <td>vhigh</td>\n",
       "      <td>2</td>\n",
       "      <td>2</td>\n",
       "      <td>med</td>\n",
       "      <td>med</td>\n",
       "      <td>unacc</td>\n",
       "    </tr>\n",
       "    <tr>\n",
       "      <th>4</th>\n",
       "      <td>vhigh</td>\n",
       "      <td>vhigh</td>\n",
       "      <td>2</td>\n",
       "      <td>2</td>\n",
       "      <td>med</td>\n",
       "      <td>high</td>\n",
       "      <td>unacc</td>\n",
       "    </tr>\n",
       "  </tbody>\n",
       "</table>\n",
       "</div>"
      ],
      "text/plain": [
       "  buying  maint doors persons lug_boot safety  class\n",
       "0  vhigh  vhigh     2       2    small    med  unacc\n",
       "1  vhigh  vhigh     2       2    small   high  unacc\n",
       "2  vhigh  vhigh     2       2      med    low  unacc\n",
       "3  vhigh  vhigh     2       2      med    med  unacc\n",
       "4  vhigh  vhigh     2       2      med   high  unacc"
      ]
     },
     "execution_count": 16,
     "metadata": {},
     "output_type": "execute_result"
    }
   ],
   "source": [
    "data.columns=['buying', 'maint', 'doors', 'persons', 'lug_boot', 'safety', 'class']\n",
    "data.head()"
   ]
  },
  {
   "cell_type": "code",
   "execution_count": 19,
   "id": "09097ad0",
   "metadata": {},
   "outputs": [
    {
     "data": {
      "text/plain": [
       "array(['vhigh', 'high', 'med', 'low'], dtype=object)"
      ]
     },
     "execution_count": 19,
     "metadata": {},
     "output_type": "execute_result"
    }
   ],
   "source": [
    "data.buying.unique()"
   ]
  },
  {
   "cell_type": "code",
   "execution_count": 20,
   "id": "b7cb6f5f",
   "metadata": {},
   "outputs": [],
   "source": [
    "#Lets Use ordinal Encoding to set the number\n",
    "from sklearn.preprocessing import OrdinalEncoder"
   ]
  },
  {
   "cell_type": "code",
   "execution_count": 24,
   "id": "eef4f626",
   "metadata": {},
   "outputs": [
    {
     "name": "stdout",
     "output_type": "stream",
     "text": [
      "[[3.]\n",
      " [3.]\n",
      " [3.]\n",
      " ...\n",
      " [0.]\n",
      " [0.]\n",
      " [0.]]\n"
     ]
    }
   ],
   "source": [
    "ord_enc=OrdinalEncoder(categories=[['low','med','high','vhigh']])\n",
    "df2=ord_enc.fit_transform(data[['buying']])\n",
    "print(df2)\n",
    "data['buying']=df2"
   ]
  },
  {
   "cell_type": "code",
   "execution_count": 28,
   "id": "bd5c8fde",
   "metadata": {},
   "outputs": [],
   "source": [
    "ord_enc=OrdinalEncoder(categories=[['low','med','high','vhigh']])\n",
    "df2=ord_enc.fit_transform(data[['maint']])\n",
    "df2\n",
    "data['maint']=df2"
   ]
  },
  {
   "cell_type": "code",
   "execution_count": 34,
   "id": "9b3f54c7",
   "metadata": {},
   "outputs": [
    {
     "data": {
      "text/plain": [
       "array(['med', 'high', 'low'], dtype=object)"
      ]
     },
     "execution_count": 34,
     "metadata": {},
     "output_type": "execute_result"
    }
   ],
   "source": [
    "data.safety.unique()"
   ]
  },
  {
   "cell_type": "code",
   "execution_count": 33,
   "id": "3c9fb623",
   "metadata": {},
   "outputs": [],
   "source": [
    "ord_enc=OrdinalEncoder(categories=[['small', 'med', 'big']])\n",
    "df2=ord_enc.fit_transform(data[['lug_boot']])\n",
    "df2\n",
    "data['lug_boot']=df2"
   ]
  },
  {
   "cell_type": "code",
   "execution_count": 41,
   "id": "2c43a14a",
   "metadata": {},
   "outputs": [],
   "source": [
    "ord_enc=OrdinalEncoder(categories=[['low','med','high']])\n",
    "df2=ord_enc.fit_transform(data[['safety']])\n",
    "df2\n",
    "data['safety']=df2"
   ]
  },
  {
   "cell_type": "code",
   "execution_count": 72,
   "id": "4234ff3d",
   "metadata": {},
   "outputs": [],
   "source": [
    "ord_enc=OrdinalEncoder(categories=[['2', '3', '4', '5more']])\n",
    "df1=ord_enc.fit_transform(data[['doors']])\n",
    "df1\n",
    "data['doors']=df1"
   ]
  },
  {
   "cell_type": "code",
   "execution_count": 96,
   "id": "67956d3a",
   "metadata": {},
   "outputs": [],
   "source": [
    "ord_enc=OrdinalEncoder(categories=[['2', '4', 'more']])\n",
    "df1=ord_enc.fit_transform(data[['persons']])\n",
    "df1\n",
    "data['persons']=df1"
   ]
  },
  {
   "cell_type": "code",
   "execution_count": 73,
   "id": "397beffb",
   "metadata": {},
   "outputs": [
    {
     "data": {
      "text/html": [
       "<div>\n",
       "<style scoped>\n",
       "    .dataframe tbody tr th:only-of-type {\n",
       "        vertical-align: middle;\n",
       "    }\n",
       "\n",
       "    .dataframe tbody tr th {\n",
       "        vertical-align: top;\n",
       "    }\n",
       "\n",
       "    .dataframe thead th {\n",
       "        text-align: right;\n",
       "    }\n",
       "</style>\n",
       "<table border=\"1\" class=\"dataframe\">\n",
       "  <thead>\n",
       "    <tr style=\"text-align: right;\">\n",
       "      <th></th>\n",
       "      <th>buying</th>\n",
       "      <th>maint</th>\n",
       "      <th>doors</th>\n",
       "      <th>persons</th>\n",
       "      <th>lug_boot</th>\n",
       "      <th>safety</th>\n",
       "      <th>class</th>\n",
       "    </tr>\n",
       "  </thead>\n",
       "  <tbody>\n",
       "    <tr>\n",
       "      <th>0</th>\n",
       "      <td>3.0</td>\n",
       "      <td>3.0</td>\n",
       "      <td>0.0</td>\n",
       "      <td>2</td>\n",
       "      <td>0.0</td>\n",
       "      <td>1.0</td>\n",
       "      <td>unacc</td>\n",
       "    </tr>\n",
       "    <tr>\n",
       "      <th>1</th>\n",
       "      <td>3.0</td>\n",
       "      <td>3.0</td>\n",
       "      <td>0.0</td>\n",
       "      <td>2</td>\n",
       "      <td>0.0</td>\n",
       "      <td>2.0</td>\n",
       "      <td>unacc</td>\n",
       "    </tr>\n",
       "    <tr>\n",
       "      <th>2</th>\n",
       "      <td>3.0</td>\n",
       "      <td>3.0</td>\n",
       "      <td>0.0</td>\n",
       "      <td>2</td>\n",
       "      <td>1.0</td>\n",
       "      <td>0.0</td>\n",
       "      <td>unacc</td>\n",
       "    </tr>\n",
       "    <tr>\n",
       "      <th>3</th>\n",
       "      <td>3.0</td>\n",
       "      <td>3.0</td>\n",
       "      <td>0.0</td>\n",
       "      <td>2</td>\n",
       "      <td>1.0</td>\n",
       "      <td>1.0</td>\n",
       "      <td>unacc</td>\n",
       "    </tr>\n",
       "    <tr>\n",
       "      <th>4</th>\n",
       "      <td>3.0</td>\n",
       "      <td>3.0</td>\n",
       "      <td>0.0</td>\n",
       "      <td>2</td>\n",
       "      <td>1.0</td>\n",
       "      <td>2.0</td>\n",
       "      <td>unacc</td>\n",
       "    </tr>\n",
       "  </tbody>\n",
       "</table>\n",
       "</div>"
      ],
      "text/plain": [
       "   buying  maint  doors persons  lug_boot  safety  class\n",
       "0     3.0    3.0    0.0       2       0.0     1.0  unacc\n",
       "1     3.0    3.0    0.0       2       0.0     2.0  unacc\n",
       "2     3.0    3.0    0.0       2       1.0     0.0  unacc\n",
       "3     3.0    3.0    0.0       2       1.0     1.0  unacc\n",
       "4     3.0    3.0    0.0       2       1.0     2.0  unacc"
      ]
     },
     "execution_count": 73,
     "metadata": {},
     "output_type": "execute_result"
    }
   ],
   "source": [
    "data.head()"
   ]
  },
  {
   "cell_type": "code",
   "execution_count": 43,
   "id": "e5c747a3",
   "metadata": {},
   "outputs": [
    {
     "data": {
      "text/plain": [
       "buying      0\n",
       "maint       0\n",
       "doors       0\n",
       "persons     0\n",
       "lug_boot    0\n",
       "safety      0\n",
       "class       0\n",
       "dtype: int64"
      ]
     },
     "execution_count": 43,
     "metadata": {},
     "output_type": "execute_result"
    }
   ],
   "source": [
    "data.isna().sum()"
   ]
  },
  {
   "cell_type": "code",
   "execution_count": 45,
   "id": "128cd9af",
   "metadata": {},
   "outputs": [
    {
     "data": {
      "text/html": [
       "<div>\n",
       "<style scoped>\n",
       "    .dataframe tbody tr th:only-of-type {\n",
       "        vertical-align: middle;\n",
       "    }\n",
       "\n",
       "    .dataframe tbody tr th {\n",
       "        vertical-align: top;\n",
       "    }\n",
       "\n",
       "    .dataframe thead th {\n",
       "        text-align: right;\n",
       "    }\n",
       "</style>\n",
       "<table border=\"1\" class=\"dataframe\">\n",
       "  <thead>\n",
       "    <tr style=\"text-align: right;\">\n",
       "      <th></th>\n",
       "      <th>buying</th>\n",
       "      <th>maint</th>\n",
       "      <th>lug_boot</th>\n",
       "      <th>safety</th>\n",
       "    </tr>\n",
       "  </thead>\n",
       "  <tbody>\n",
       "    <tr>\n",
       "      <th>count</th>\n",
       "      <td>1727.000000</td>\n",
       "      <td>1727.000000</td>\n",
       "      <td>1727.000000</td>\n",
       "      <td>1727.000000</td>\n",
       "    </tr>\n",
       "    <tr>\n",
       "      <th>mean</th>\n",
       "      <td>1.499131</td>\n",
       "      <td>1.499131</td>\n",
       "      <td>1.000579</td>\n",
       "      <td>1.000579</td>\n",
       "    </tr>\n",
       "    <tr>\n",
       "      <th>std</th>\n",
       "      <td>1.118098</td>\n",
       "      <td>1.118098</td>\n",
       "      <td>0.816615</td>\n",
       "      <td>0.816615</td>\n",
       "    </tr>\n",
       "    <tr>\n",
       "      <th>min</th>\n",
       "      <td>0.000000</td>\n",
       "      <td>0.000000</td>\n",
       "      <td>0.000000</td>\n",
       "      <td>0.000000</td>\n",
       "    </tr>\n",
       "    <tr>\n",
       "      <th>25%</th>\n",
       "      <td>0.500000</td>\n",
       "      <td>0.500000</td>\n",
       "      <td>0.000000</td>\n",
       "      <td>0.000000</td>\n",
       "    </tr>\n",
       "    <tr>\n",
       "      <th>50%</th>\n",
       "      <td>1.000000</td>\n",
       "      <td>1.000000</td>\n",
       "      <td>1.000000</td>\n",
       "      <td>1.000000</td>\n",
       "    </tr>\n",
       "    <tr>\n",
       "      <th>75%</th>\n",
       "      <td>2.000000</td>\n",
       "      <td>2.000000</td>\n",
       "      <td>2.000000</td>\n",
       "      <td>2.000000</td>\n",
       "    </tr>\n",
       "    <tr>\n",
       "      <th>max</th>\n",
       "      <td>3.000000</td>\n",
       "      <td>3.000000</td>\n",
       "      <td>2.000000</td>\n",
       "      <td>2.000000</td>\n",
       "    </tr>\n",
       "  </tbody>\n",
       "</table>\n",
       "</div>"
      ],
      "text/plain": [
       "            buying        maint     lug_boot       safety\n",
       "count  1727.000000  1727.000000  1727.000000  1727.000000\n",
       "mean      1.499131     1.499131     1.000579     1.000579\n",
       "std       1.118098     1.118098     0.816615     0.816615\n",
       "min       0.000000     0.000000     0.000000     0.000000\n",
       "25%       0.500000     0.500000     0.000000     0.000000\n",
       "50%       1.000000     1.000000     1.000000     1.000000\n",
       "75%       2.000000     2.000000     2.000000     2.000000\n",
       "max       3.000000     3.000000     2.000000     2.000000"
      ]
     },
     "execution_count": 45,
     "metadata": {},
     "output_type": "execute_result"
    }
   ],
   "source": [
    "data.describe()"
   ]
  },
  {
   "cell_type": "code",
   "execution_count": 46,
   "id": "f37f5bdb",
   "metadata": {},
   "outputs": [],
   "source": [
    "#Lets check MultiCollinearity Problem by heat map"
   ]
  },
  {
   "cell_type": "code",
   "execution_count": 47,
   "id": "115f9aa2",
   "metadata": {},
   "outputs": [],
   "source": [
    "df_corr=data.corr().abs()"
   ]
  },
  {
   "cell_type": "code",
   "execution_count": 51,
   "id": "370d9863",
   "metadata": {},
   "outputs": [
    {
     "data": {
      "image/png": "[encoded data removed]",
      "text/plain": [
       "<Figure size 720x576 with 2 Axes>"
      ]
     },
     "metadata": {
      "needs_background": "light"
     },
     "output_type": "display_data"
    }
   ],
   "source": [
    "plt.figure(figsize=(10,8))\n",
    "sns.heatmap(df_corr,annot=True,annot_kws={'size':10})\n",
    "plt.show()"
   ]
  },
  {
   "cell_type": "code",
   "execution_count": 52,
   "id": "bcb0e49b",
   "metadata": {},
   "outputs": [],
   "source": [
    "#There is not a multilinearity Problem we are goo to go."
   ]
  },
  {
   "cell_type": "code",
   "execution_count": 53,
   "id": "ba51a409",
   "metadata": {},
   "outputs": [],
   "source": [
    "#Lets assign the label name and feature name"
   ]
  },
  {
   "cell_type": "code",
   "execution_count": 128,
   "id": "2f3c7393",
   "metadata": {},
   "outputs": [],
   "source": [
    "x=data.drop(columns=['class'])\n",
    "y=data['class']"
   ]
  },
  {
   "cell_type": "code",
   "execution_count": 129,
   "id": "21d966cb",
   "metadata": {},
   "outputs": [],
   "source": [
    "#Lets do Train Train Split for train test split we have to import"
   ]
  },
  {
   "cell_type": "code",
   "execution_count": 130,
   "id": "3042ccc3",
   "metadata": {},
   "outputs": [],
   "source": [
    "from sklearn.model_selection import train_test_split\n",
    "from sklearn.metrics import accuracy_score,classification_report"
   ]
  },
  {
   "cell_type": "code",
   "execution_count": 131,
   "id": "c05fbf57",
   "metadata": {},
   "outputs": [],
   "source": [
    "x_train,x_test,y_train,y_test=train_test_split(x,y,test_size=0.20,random_state=94255)"
   ]
  },
  {
   "cell_type": "code",
   "execution_count": 139,
   "id": "bc517678",
   "metadata": {},
   "outputs": [],
   "source": [
    "def metrics_score(cnn,x_train,x_test,y_train,y_test,train=True):\n",
    "    if train:\n",
    "        y_pred=cnn.predict(x_train)\n",
    "        print(\"======================Training Score=============\")\n",
    "        print(\"Accuracy Score===> \",accuracy_score(y_train,y_pred)*100)\n",
    "    elif train== False:\n",
    "        pred=cnn.predict(x_test)\n",
    "        print(\"========================Testing Score=============\")\n",
    "        print(\"Accuracy Score==>  \",accuracy_score(y_test,pred)*100)\n",
    "        print(\"Classification Report ==> \",classification_report(y_test,pred))"
   ]
  },
  {
   "cell_type": "code",
   "execution_count": 140,
   "id": "b4693d34",
   "metadata": {},
   "outputs": [],
   "source": [
    "#Lets Create Model. DecisionTreeClassifier\n",
    "from sklearn.tree import DecisionTreeClassifier"
   ]
  },
  {
   "cell_type": "code",
   "execution_count": 141,
   "id": "7fdda058",
   "metadata": {},
   "outputs": [],
   "source": [
    "cnn=DecisionTreeClassifier()"
   ]
  },
  {
   "cell_type": "code",
   "execution_count": 142,
   "id": "5b6a19d5",
   "metadata": {},
   "outputs": [
    {
     "data": {
      "text/plain": [
       "DecisionTreeClassifier()"
      ]
     },
     "execution_count": 142,
     "metadata": {},
     "output_type": "execute_result"
    }
   ],
   "source": [
    "cnn.fit(x_train,y_train)"
   ]
  },
  {
   "cell_type": "code",
   "execution_count": 143,
   "id": "7d370f24",
   "metadata": {},
   "outputs": [],
   "source": [
    "#Our  model is created lets check accuracy score"
   ]
  },
  {
   "cell_type": "code",
   "execution_count": 144,
   "id": "842b63a3",
   "metadata": {},
   "outputs": [
    {
     "name": "stdout",
     "output_type": "stream",
     "text": [
      "======================Training Score=============\n",
      "Accuracy Score===>  100.0\n"
     ]
    }
   ],
   "source": [
    "metrics_score(cnn,x_train,x_test,y_train,y_test,train=True)"
   ]
  },
  {
   "cell_type": "code",
   "execution_count": 145,
   "id": "ec74847f",
   "metadata": {},
   "outputs": [
    {
     "name": "stdout",
     "output_type": "stream",
     "text": [
      "========================Testing Score=============\n",
      "Accuracy Score==>   98.55491329479769\n",
      "Classification Report ==>                precision    recall  f1-score   support\n",
      "\n",
      "         acc       0.96      0.97      0.96        67\n",
      "        good       0.89      0.89      0.89        18\n",
      "       unacc       1.00      1.00      1.00       249\n",
      "       vgood       1.00      1.00      1.00        12\n",
      "\n",
      "    accuracy                           0.99       346\n",
      "   macro avg       0.96      0.96      0.96       346\n",
      "weighted avg       0.99      0.99      0.99       346\n",
      "\n"
     ]
    }
   ],
   "source": [
    "metrics_score(cnn,x_train,x_test,y_train,y_test,train=False)"
   ]
  },
  {
   "cell_type": "code",
   "execution_count": 146,
   "id": "1fb9851b",
   "metadata": {},
   "outputs": [],
   "source": [
    "#Might be our model is overfitted\n",
    "#Lets do some tuning by hyperparameter tuning"
   ]
  },
  {
   "cell_type": "code",
   "execution_count": 147,
   "id": "6b1da0fc",
   "metadata": {},
   "outputs": [],
   "source": [
    "#lets import hyperparameter tuning\n",
    "from sklearn.model_selection import GridSearchCV"
   ]
  },
  {
   "cell_type": "code",
   "execution_count": 149,
   "id": "edd4b80c",
   "metadata": {},
   "outputs": [],
   "source": [
    "param_grid={'criterion':['gini','entropy'],\n",
    "           'max_depth':[2,15],\n",
    "           'min_samples_leaf':[4,15],\n",
    "           'min_samples_split':[3,12],\n",
    "           'max_leaf_nodes':[2,15]}"
   ]
  },
  {
   "cell_type": "code",
   "execution_count": 150,
   "id": "e8b5d2cd",
   "metadata": {},
   "outputs": [
    {
     "data": {
      "text/plain": [
       "{'criterion': 'entropy',\n",
       " 'max_depth': 15,\n",
       " 'max_leaf_nodes': 15,\n",
       " 'min_samples_leaf': 4,\n",
       " 'min_samples_split': 3}"
      ]
     },
     "execution_count": 150,
     "metadata": {},
     "output_type": "execute_result"
    }
   ],
   "source": [
    "grid_search=GridSearchCV(estimator=cnn,param_grid=param_grid,cv=7)\n",
    "grid_search.fit(x_train,y_train)\n",
    "grid_search.best_params_"
   ]
  },
  {
   "cell_type": "code",
   "execution_count": 152,
   "id": "cacba0c0",
   "metadata": {},
   "outputs": [],
   "source": [
    "cnn=DecisionTreeClassifier(criterion='entropy',max_depth=15,max_leaf_nodes=15,min_samples_leaf=4,min_samples_split=3)"
   ]
  },
  {
   "cell_type": "code",
   "execution_count": 153,
   "id": "e66ae0ac",
   "metadata": {},
   "outputs": [
    {
     "data": {
      "text/plain": [
       "DecisionTreeClassifier(criterion='entropy', max_depth=15, max_leaf_nodes=15,\n",
       "                       min_samples_leaf=4, min_samples_split=3)"
      ]
     },
     "execution_count": 153,
     "metadata": {},
     "output_type": "execute_result"
    }
   ],
   "source": [
    "cnn.fit(x_train,y_train)"
   ]
  },
  {
   "cell_type": "code",
   "execution_count": 154,
   "id": "c335d8b9",
   "metadata": {},
   "outputs": [
    {
     "name": "stdout",
     "output_type": "stream",
     "text": [
      "======================Training Score=============\n",
      "Accuracy Score===>  93.12092686459088\n"
     ]
    }
   ],
   "source": [
    "metrics_score(cnn,x_train,x_test,y_train,y_test,train=True)"
   ]
  },
  {
   "cell_type": "code",
   "execution_count": 155,
   "id": "7167da59",
   "metadata": {},
   "outputs": [
    {
     "name": "stdout",
     "output_type": "stream",
     "text": [
      "========================Testing Score=============\n",
      "Accuracy Score==>   94.79768786127167\n",
      "Classification Report ==>                precision    recall  f1-score   support\n",
      "\n",
      "         acc       0.90      0.85      0.88        67\n",
      "        good       0.73      0.89      0.80        18\n",
      "       unacc       0.99      0.98      0.99       249\n",
      "       vgood       0.73      0.92      0.81        12\n",
      "\n",
      "    accuracy                           0.95       346\n",
      "   macro avg       0.84      0.91      0.87       346\n",
      "weighted avg       0.95      0.95      0.95       346\n",
      "\n"
     ]
    }
   ],
   "source": [
    "metrics_score(cnn,x_train,x_test,y_train,y_test,train=False)"
   ]
  },
  {
   "cell_type": "code",
   "execution_count": 161,
   "id": "a5230bd6",
   "metadata": {},
   "outputs": [],
   "source": [
    "#Save Model\n",
    "import pickle\n",
    "pickle.dump('model',open('Decision Tree','wb'))"
   ]
  },
  {
   "cell_type": "code",
   "execution_count": 156,
   "id": "1998b6fb",
   "metadata": {},
   "outputs": [],
   "source": [
    "#Student of DataScience\n",
    "#Student of DataTrained - Saurav\n",
    "#Date- 15-09-2022\n",
    "#Time - 10:46"
   ]
  },
  {
   "cell_type": "code",
   "execution_count": null,
   "id": "afb8964d",
   "metadata": {},
   "outputs": [],
   "source": []
  },
  {
   "cell_type": "code",
   "execution_count": null,
   "id": "a862fd8a",
   "metadata": {},
   "outputs": [],
   "source": []
  }
 ],
 "metadata": {
  "kernelspec": {
   "display_name": "Python 3 (ipykernel)",
   "language": "python",
   "name": "python3"
  },
  "language_info": {
   "codemirror_mode": {
    "name": "ipython",
    "version": 3
   },
   "file_extension": ".py",
   "mimetype": "text/x-python",
   "name": "python",
   "nbconvert_exporter": "python",
   "pygments_lexer": "ipython3",
   "version": "3.9.12"
  }
 },
 "nbformat": 4,
 "nbformat_minor": 5
}
